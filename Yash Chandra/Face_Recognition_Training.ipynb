{
  "nbformat": 4,
  "nbformat_minor": 0,
  "metadata": {
    "colab": {
      "provenance": [],
      "collapsed_sections": []
    },
    "kernelspec": {
      "name": "python3",
      "display_name": "Python 3"
    },
    "language_info": {
      "name": "python"
    }
  },
  "cells": [
    {
      "cell_type": "code",
      "execution_count": null,
      "metadata": {
        "id": "PR1_wURyhBEJ",
        "colab": {
          "base_uri": "https://localhost:8080/"
        },
        "outputId": "04a1d864-6610-451f-ef7a-cdf380a2bc38"
      },
      "outputs": [
        {
          "output_type": "stream",
          "name": "stdout",
          "text": [
            "Downloading data from https://storage.googleapis.com/tensorflow/keras-applications/vgg16/vgg16_weights_tf_dim_ordering_tf_kernels_notop.h5\n",
            "58892288/58889256 [==============================] - 0s 0us/step\n",
            "58900480/58889256 [==============================] - 0s 0us/step\n"
          ]
        }
      ],
      "source": [
        "from keras.applications import vgg16\n",
        "img_rows, img_cols = 32, 32\n",
        "VGG=vgg16.VGG16(weights='imagenet',include_top=False ,input_shape=(img_rows, img_cols,3))"
      ]
    },
    {
      "cell_type": "code",
      "source": [
        "for layer in VGG.layers:\n",
        "    layer.trainable=False"
      ],
      "metadata": {
        "id": "WhdDgFvTo9To"
      },
      "execution_count": null,
      "outputs": []
    },
    {
      "cell_type": "code",
      "source": [
        "def top(bottom_model, num_classes):\n",
        "\n",
        "    top_model = bottom_model.output\n",
        "    top_model = GlobalAveragePooling2D()(top_model)\n",
        "    top_model = Dense(1024,activation='relu')(top_model)\n",
        "    top_model = Dense(512,activation='relu')(top_model)\n",
        "    top_model = Dense(512,activation='relu')(top_model)\n",
        "    top_model = Dense(256,activation='relu')(top_model)\n",
        "    top_model = Dense(128,activation='relu')(top_model)\n",
        "    top_model = Dense(num_classes,activation='softmax')(top_model)\n",
        "    return top_model"
      ],
      "metadata": {
        "id": "pt1xbCBZpH-K"
      },
      "execution_count": null,
      "outputs": []
    },
    {
      "cell_type": "code",
      "source": [
        "from tensorflow.keras.models import Sequential\n",
        "from tensorflow.keras.layers import Dense, Dropout, Activation, Flatten, GlobalAveragePooling2D\n",
        "from tensorflow.keras.layers import Conv2D, MaxPooling2D, ZeroPadding2D\n",
        "from keras.layers.normalization import batch_normalization\n",
        "from tensorflow.keras.models import Model\n",
        "\n",
        "num_classes = 5\n",
        "\n",
        "FC_Head = top(VGG, num_classes)\n",
        "\n",
        "model = Model(inputs = VGG.input, outputs = FC_Head)\n",
        "\n",
        "print(model.summary())"
      ],
      "metadata": {
        "id": "UyvvUJWepIPf",
        "colab": {
          "base_uri": "https://localhost:8080/"
        },
        "outputId": "06c39911-6e63-4b79-e137-f9621a0c9403"
      },
      "execution_count": null,
      "outputs": [
        {
          "output_type": "stream",
          "name": "stdout",
          "text": [
            "Model: \"model\"\n",
            "_________________________________________________________________\n",
            " Layer (type)                Output Shape              Param #   \n",
            "=================================================================\n",
            " input_1 (InputLayer)        [(None, 32, 32, 3)]       0         \n",
            "                                                                 \n",
            " block1_conv1 (Conv2D)       (None, 32, 32, 64)        1792      \n",
            "                                                                 \n",
            " block1_conv2 (Conv2D)       (None, 32, 32, 64)        36928     \n",
            "                                                                 \n",
            " block1_pool (MaxPooling2D)  (None, 16, 16, 64)        0         \n",
            "                                                                 \n",
            " block2_conv1 (Conv2D)       (None, 16, 16, 128)       73856     \n",
            "                                                                 \n",
            " block2_conv2 (Conv2D)       (None, 16, 16, 128)       147584    \n",
            "                                                                 \n",
            " block2_pool (MaxPooling2D)  (None, 8, 8, 128)         0         \n",
            "                                                                 \n",
            " block3_conv1 (Conv2D)       (None, 8, 8, 256)         295168    \n",
            "                                                                 \n",
            " block3_conv2 (Conv2D)       (None, 8, 8, 256)         590080    \n",
            "                                                                 \n",
            " block3_conv3 (Conv2D)       (None, 8, 8, 256)         590080    \n",
            "                                                                 \n",
            " block3_pool (MaxPooling2D)  (None, 4, 4, 256)         0         \n",
            "                                                                 \n",
            " block4_conv1 (Conv2D)       (None, 4, 4, 512)         1180160   \n",
            "                                                                 \n",
            " block4_conv2 (Conv2D)       (None, 4, 4, 512)         2359808   \n",
            "                                                                 \n",
            " block4_conv3 (Conv2D)       (None, 4, 4, 512)         2359808   \n",
            "                                                                 \n",
            " block4_pool (MaxPooling2D)  (None, 2, 2, 512)         0         \n",
            "                                                                 \n",
            " block5_conv1 (Conv2D)       (None, 2, 2, 512)         2359808   \n",
            "                                                                 \n",
            " block5_conv2 (Conv2D)       (None, 2, 2, 512)         2359808   \n",
            "                                                                 \n",
            " block5_conv3 (Conv2D)       (None, 2, 2, 512)         2359808   \n",
            "                                                                 \n",
            " block5_pool (MaxPooling2D)  (None, 1, 1, 512)         0         \n",
            "                                                                 \n",
            " global_average_pooling2d (G  (None, 512)              0         \n",
            " lobalAveragePooling2D)                                          \n",
            "                                                                 \n",
            " dense (Dense)               (None, 1024)              525312    \n",
            "                                                                 \n",
            " dense_1 (Dense)             (None, 512)               524800    \n",
            "                                                                 \n",
            " dense_2 (Dense)             (None, 512)               262656    \n",
            "                                                                 \n",
            " dense_3 (Dense)             (None, 256)               131328    \n",
            "                                                                 \n",
            " dense_4 (Dense)             (None, 128)               32896     \n",
            "                                                                 \n",
            " dense_5 (Dense)             (None, 5)                 645       \n",
            "                                                                 \n",
            "=================================================================\n",
            "Total params: 16,192,325\n",
            "Trainable params: 1,477,637\n",
            "Non-trainable params: 14,714,688\n",
            "_________________________________________________________________\n",
            "None\n"
          ]
        }
      ]
    },
    {
      "cell_type": "code",
      "source": [
        "from google.colab import drive\n",
        "drive.mount('/content/drive')"
      ],
      "metadata": {
        "id": "9kN2QTPYPd89"
      },
      "execution_count": null,
      "outputs": []
    },
    {
      "cell_type": "code",
      "source": [
        "from keras.preprocessing.image import ImageDataGenerator\n",
        "\n",
        "train_data_dir = '/content/drive/MyDrive/Data Set/train'\n",
        "validation_data_dir = '/content/drive/MyDrive/Data Set/validation'\n",
        " \n",
        "train_datagen = ImageDataGenerator(rescale=1./255)\n",
        " \n",
        "validation_datagen = ImageDataGenerator(rescale=1./255)\n",
        " \n",
        "batch_size = 32\n",
        "\n",
        "train_generator = train_datagen.flow_from_directory(\n",
        "        train_data_dir,\n",
        "        target_size=(img_rows, img_cols),\n",
        "        batch_size=batch_size,\n",
        "        class_mode='categorical')\n",
        " \n",
        "validation_generator = validation_datagen.flow_from_directory(\n",
        "        validation_data_dir,\n",
        "        target_size=(img_rows, img_cols),\n",
        "        batch_size=batch_size,\n",
        "        class_mode='categorical')"
      ],
      "metadata": {
        "id": "mN0AN7aLpVls",
        "colab": {
          "base_uri": "https://localhost:8080/"
        },
        "outputId": "44f66572-ea53-4e99-f864-f0a29d635abf"
      },
      "execution_count": null,
      "outputs": [
        {
          "output_type": "stream",
          "name": "stdout",
          "text": [
            "Found 280 images belonging to 5 classes.\n",
            "Found 274 images belonging to 5 classes.\n"
          ]
        }
      ]
    },
    {
      "cell_type": "code",
      "source": [
        "from keras.optimizers import rmsprop_v2\n",
        "from keras.callbacks import ModelCheckpoint, EarlyStopping\n",
        "                  \n",
        "checkpoint = ModelCheckpoint(\"face.h5\",\n",
        "                             monitor=\"val_loss\",\n",
        "                             mode=\"min\",\n",
        "                             save_best_only = True,\n",
        "                             verbose=1)\n",
        "\n",
        "earlystop = EarlyStopping(monitor = 'val_loss', \n",
        "                          min_delta = 0, \n",
        "                          patience = 3,\n",
        "                          verbose = 1,\n",
        "                          restore_best_weights = True)\n",
        "\n",
        "callbacks = [earlystop, checkpoint]\n",
        " \n",
        "model.compile(loss = 'categorical_crossentropy',\n",
        "              optimizer = rmsprop_v2.RMSprop(learning_rate=0.001),\n",
        "              metrics = ['accuracy'])\n",
        "\n",
        "nb_train_samples = 280\n",
        "nb_validation_samples = 274\n",
        " \n",
        "epochs = 10\n",
        "batch_size = 32\n",
        "\n",
        "history = model.fit(\n",
        "    train_generator,\n",
        "    steps_per_epoch = nb_train_samples // batch_size,\n",
        "    epochs = epochs,\n",
        "    callbacks = callbacks,\n",
        "    validation_data = validation_generator,\n",
        "    validation_steps = nb_validation_samples // batch_size)\n",
        "\n",
        "\n"
      ],
      "metadata": {
        "id": "qCHMq0yxpdGU",
        "colab": {
          "base_uri": "https://localhost:8080/"
        },
        "outputId": "4471c151-a66e-46ee-870b-76b47d045fb7"
      },
      "execution_count": null,
      "outputs": [
        {
          "output_type": "stream",
          "name": "stdout",
          "text": [
            "Epoch 1/10\n",
            "8/8 [==============================] - ETA: 0s - loss: 1.7402 - accuracy: 0.2137\n",
            "Epoch 1: val_loss improved from inf to 1.57337, saving model to face.h5\n",
            "8/8 [==============================] - 146s 19s/step - loss: 1.7402 - accuracy: 0.2137 - val_loss: 1.5734 - val_accuracy: 0.2578\n",
            "Epoch 2/10\n",
            "8/8 [==============================] - ETA: 0s - loss: 1.5552 - accuracy: 0.3065\n",
            "Epoch 2: val_loss improved from 1.57337 to 1.37634, saving model to face.h5\n",
            "8/8 [==============================] - 8s 1s/step - loss: 1.5552 - accuracy: 0.3065 - val_loss: 1.3763 - val_accuracy: 0.5117\n",
            "Epoch 3/10\n",
            "8/8 [==============================] - ETA: 0s - loss: 1.3631 - accuracy: 0.4073\n",
            "Epoch 3: val_loss improved from 1.37634 to 1.13168, saving model to face.h5\n",
            "8/8 [==============================] - 8s 1s/step - loss: 1.3631 - accuracy: 0.4073 - val_loss: 1.1317 - val_accuracy: 0.5352\n",
            "Epoch 4/10\n",
            "8/8 [==============================] - ETA: 0s - loss: 1.5928 - accuracy: 0.4960\n",
            "Epoch 4: val_loss improved from 1.13168 to 1.06727, saving model to face.h5\n",
            "8/8 [==============================] - 10s 1s/step - loss: 1.5928 - accuracy: 0.4960 - val_loss: 1.0673 - val_accuracy: 0.6641\n",
            "Epoch 5/10\n",
            "8/8 [==============================] - ETA: 0s - loss: 1.2278 - accuracy: 0.5363\n",
            "Epoch 5: val_loss did not improve from 1.06727\n",
            "8/8 [==============================] - 7s 985ms/step - loss: 1.2278 - accuracy: 0.5363 - val_loss: 1.0694 - val_accuracy: 0.6094\n",
            "Epoch 6/10\n",
            "8/8 [==============================] - ETA: 0s - loss: 0.9918 - accuracy: 0.6129\n",
            "Epoch 6: val_loss improved from 1.06727 to 0.72472, saving model to face.h5\n",
            "8/8 [==============================] - 8s 1s/step - loss: 0.9918 - accuracy: 0.6129 - val_loss: 0.7247 - val_accuracy: 0.7617\n",
            "Epoch 7/10\n",
            "8/8 [==============================] - ETA: 0s - loss: 1.1054 - accuracy: 0.6169\n",
            "Epoch 7: val_loss did not improve from 0.72472\n",
            "8/8 [==============================] - 8s 997ms/step - loss: 1.1054 - accuracy: 0.6169 - val_loss: 0.9119 - val_accuracy: 0.6445\n",
            "Epoch 8/10\n",
            "8/8 [==============================] - ETA: 0s - loss: 0.7238 - accuracy: 0.7298\n",
            "Epoch 8: val_loss improved from 0.72472 to 0.53007, saving model to face.h5\n",
            "8/8 [==============================] - 8s 1s/step - loss: 0.7238 - accuracy: 0.7298 - val_loss: 0.5301 - val_accuracy: 0.8047\n",
            "Epoch 9/10\n",
            "8/8 [==============================] - ETA: 0s - loss: 0.7678 - accuracy: 0.7419\n",
            "Epoch 9: val_loss improved from 0.53007 to 0.35725, saving model to face.h5\n",
            "8/8 [==============================] - 8s 1s/step - loss: 0.7678 - accuracy: 0.7419 - val_loss: 0.3573 - val_accuracy: 0.8828\n",
            "Epoch 10/10\n",
            "8/8 [==============================] - ETA: 0s - loss: 0.5592 - accuracy: 0.8065\n",
            "Epoch 10: val_loss improved from 0.35725 to 0.31508, saving model to face.h5\n",
            "8/8 [==============================] - 8s 1s/step - loss: 0.5592 - accuracy: 0.8065 - val_loss: 0.3151 - val_accuracy: 0.8867\n"
          ]
        }
      ]
    }
  ]
}