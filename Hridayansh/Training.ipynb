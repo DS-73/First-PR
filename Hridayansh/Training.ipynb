{
  "nbformat": 4,
  "nbformat_minor": 0,
  "metadata": {
    "colab": {
      "provenance": []
    },
    "kernelspec": {
      "name": "python3",
      "display_name": "Python 3"
    },
    "language_info": {
      "name": "python"
    },
    "accelerator": "GPU"
  },
  "cells": [
    {
      "cell_type": "code",
      "execution_count": null,
      "metadata": {
        "colab": {
          "base_uri": "https://localhost:8080/"
        },
        "id": "Dizmpbji9Frx",
        "outputId": "d35b5525-4f59-40b0-8d6c-778860154b64"
      },
      "outputs": [
        {
          "output_type": "stream",
          "name": "stdout",
          "text": [
            "Drive already mounted at /content/drive; to attempt to forcibly remount, call drive.mount(\"/content/drive\", force_remount=True).\n"
          ]
        }
      ],
      "source": [
        "#Mouting The Google Drive \n",
        "from google.colab import drive\n",
        "drive.mount('/content/drive')"
      ]
    },
    {
      "cell_type": "code",
      "source": [
        "from keras.applications import vgg16\n",
        "img_rows, img_cols = 64, 64\n",
        "VGG = vgg16.VGG16(weights='imagenet',include_top=False ,input_shape=(img_rows, img_cols,3))"
      ],
      "metadata": {
        "id": "6gh3Vn6_9LVY"
      },
      "execution_count": null,
      "outputs": []
    },
    {
      "cell_type": "code",
      "source": [
        "#Freezing The Pre-trained Layers\n",
        "for layer in VGG.layers:\n",
        "  layer.trainable = False"
      ],
      "metadata": {
        "id": "Bu6nbExl9Uj1"
      },
      "execution_count": null,
      "outputs": []
    },
    {
      "cell_type": "code",
      "source": [
        "#Defining Layers and Placing new Layers \n",
        "def top(bottom_model, num_classes):\n",
        "  top_model = bottom_model.output\n",
        "  top_model = GlobalAveragePooling2D()(top_model)\n",
        "  top_model = Dense(1024,activation = 'relu')(top_model)\n",
        "  top_model = Dense(512, activation = 'relu')(top_model)\n",
        "  top_model = Dense(512, activation = 'relu')(top_model)\n",
        "  top_model = Dense(256, activation = 'relu')(top_model)\n",
        "  top_model = Dense(128, activation = 'relu')(top_model)\n",
        "  top_model = Dense(num_classes, activation = 'softmax')(top_model)\n",
        "  return top_model"
      ],
      "metadata": {
        "id": "3z9Ahlxe9bbL"
      },
      "execution_count": null,
      "outputs": []
    },
    {
      "cell_type": "code",
      "source": [
        "from keras.models import Sequential\n",
        "from keras.layers import Dense, Dropout, Activation, Flatten, GlobalAveragePooling2D\n",
        "from keras.layers import Conv2D,  MaxPooling2D, ZeroPadding2D\n",
        "from tensorflow.keras.layers import BatchNormalization\n",
        "from keras.models import Model\n",
        "\n",
        "num_classes = 3\n",
        "\n",
        "Model_Use = top(VGG, num_classes)\n",
        "\n",
        "model = Model(inputs = VGG.input, outputs = Model_Use)\n",
        "\n",
        "print(model.summary())"
      ],
      "metadata": {
        "colab": {
          "base_uri": "https://localhost:8080/"
        },
        "id": "Fk06AMhe9dCZ",
        "outputId": "ab01ba72-4025-4fda-828e-23878a1632e1"
      },
      "execution_count": null,
      "outputs": [
        {
          "output_type": "stream",
          "name": "stdout",
          "text": [
            "Model: \"model\"\n",
            "_________________________________________________________________\n",
            " Layer (type)                Output Shape              Param #   \n",
            "=================================================================\n",
            " input_1 (InputLayer)        [(None, 64, 64, 3)]       0         \n",
            "                                                                 \n",
            " block1_conv1 (Conv2D)       (None, 64, 64, 64)        1792      \n",
            "                                                                 \n",
            " block1_conv2 (Conv2D)       (None, 64, 64, 64)        36928     \n",
            "                                                                 \n",
            " block1_pool (MaxPooling2D)  (None, 32, 32, 64)        0         \n",
            "                                                                 \n",
            " block2_conv1 (Conv2D)       (None, 32, 32, 128)       73856     \n",
            "                                                                 \n",
            " block2_conv2 (Conv2D)       (None, 32, 32, 128)       147584    \n",
            "                                                                 \n",
            " block2_pool (MaxPooling2D)  (None, 16, 16, 128)       0         \n",
            "                                                                 \n",
            " block3_conv1 (Conv2D)       (None, 16, 16, 256)       295168    \n",
            "                                                                 \n",
            " block3_conv2 (Conv2D)       (None, 16, 16, 256)       590080    \n",
            "                                                                 \n",
            " block3_conv3 (Conv2D)       (None, 16, 16, 256)       590080    \n",
            "                                                                 \n",
            " block3_pool (MaxPooling2D)  (None, 8, 8, 256)         0         \n",
            "                                                                 \n",
            " block4_conv1 (Conv2D)       (None, 8, 8, 512)         1180160   \n",
            "                                                                 \n",
            " block4_conv2 (Conv2D)       (None, 8, 8, 512)         2359808   \n",
            "                                                                 \n",
            " block4_conv3 (Conv2D)       (None, 8, 8, 512)         2359808   \n",
            "                                                                 \n",
            " block4_pool (MaxPooling2D)  (None, 4, 4, 512)         0         \n",
            "                                                                 \n",
            " block5_conv1 (Conv2D)       (None, 4, 4, 512)         2359808   \n",
            "                                                                 \n",
            " block5_conv2 (Conv2D)       (None, 4, 4, 512)         2359808   \n",
            "                                                                 \n",
            " block5_conv3 (Conv2D)       (None, 4, 4, 512)         2359808   \n",
            "                                                                 \n",
            " block5_pool (MaxPooling2D)  (None, 2, 2, 512)         0         \n",
            "                                                                 \n",
            " global_average_pooling2d (G  (None, 512)              0         \n",
            " lobalAveragePooling2D)                                          \n",
            "                                                                 \n",
            " dense (Dense)               (None, 1024)              525312    \n",
            "                                                                 \n",
            " dense_1 (Dense)             (None, 512)               524800    \n",
            "                                                                 \n",
            " dense_2 (Dense)             (None, 512)               262656    \n",
            "                                                                 \n",
            " dense_3 (Dense)             (None, 256)               131328    \n",
            "                                                                 \n",
            " dense_4 (Dense)             (None, 128)               32896     \n",
            "                                                                 \n",
            " dense_5 (Dense)             (None, 3)                 387       \n",
            "                                                                 \n",
            "=================================================================\n",
            "Total params: 16,192,067\n",
            "Trainable params: 1,477,379\n",
            "Non-trainable params: 14,714,688\n",
            "_________________________________________________________________\n",
            "None\n"
          ]
        }
      ]
    },
    {
      "cell_type": "code",
      "source": [
        "from keras.preprocessing.image import ImageDataGenerator\n",
        "\n",
        "Train_Path = '/content/drive/MyDrive/1918026_hirdayanshsah_miniproject_5sem2021/train'\n",
        "Validation_Path = '/content/drive/MyDrive/1918026_hirdayanshsah_miniproject_5sem2021/Validation'\n",
        "\n",
        "# generating More Images from the Dataset for Increasing \n",
        "train_datagen = ImageDataGenerator(rescale = 1./255,\n",
        "                                  rotation_range=45,\n",
        "                                  width_shift_range=0.3,\n",
        "                                  height_shift_range=0.3,\n",
        "                                  horizontal_flip=True,\n",
        "                                  fill_mode='nearest')\n",
        "\n",
        "validation_datagen = ImageDataGenerator(rescale = 1./255,\n",
        "                                        rotation_range = 45,\n",
        "                                        width_shift_range = 0.3,\n",
        "                                        height_shift_range = 0.3,\n",
        "                                        horizontal_flip = True,\n",
        "                                        fill_mode = 'nearest')\n",
        "\n",
        "batch = 64 # Number of Photo picked per epoch \n",
        "\n",
        "train_generator = train_datagen.flow_from_directory(Train_Path,\n",
        "                                                    target_size = (img_rows,img_cols),\n",
        "                                                    batch_size = batch,\n",
        "                                                    class_mode = 'categorical')\n",
        "\n",
        "validation_generator = validation_datagen.flow_from_directory(\n",
        "    Validation_Path,\n",
        "    target_size = (img_rows, img_cols),\n",
        "    batch_size = batch,\n",
        "    class_mode = 'categorical'\n",
        ")"
      ],
      "metadata": {
        "colab": {
          "base_uri": "https://localhost:8080/"
        },
        "id": "bE8S6VC89sYh",
        "outputId": "9056b77f-54c2-4a4a-f4b7-c40b10dfcdbf"
      },
      "execution_count": null,
      "outputs": [
        {
          "output_type": "stream",
          "name": "stdout",
          "text": [
            "Found 5232 images belonging to 3 classes.\n",
            "Found 2766 images belonging to 3 classes.\n"
          ]
        }
      ]
    },
    {
      "cell_type": "code",
      "source": [
        "from tensorflow.keras.optimizers import RMSprop\n",
        "from keras.callbacks import ModelCheckpoint, EarlyStopping\n",
        "\n",
        "checkpoint = ModelCheckpoint(\"/content/drive/MyDrive/1918026_hirdayanshsah_miniproject_5sem2021/Detect_vgg.h5\",\n",
        "                             monitor = \"val_loss\",\n",
        "                             mode = \"min\",\n",
        "                             save_best_only=True,\n",
        "                             verbose = 1)\n",
        "\n",
        "\n",
        "\n",
        "model.compile(loss = 'categorical_crossentropy',\n",
        "              optimizer = RMSprop(learning_rate = 0.001),\n",
        "              metrics = ['accuracy'])\n",
        "\n",
        "nb_train_samples = 5232\n",
        "nb_validation_samples = 2766\n",
        "\n",
        "epochs = 10\n",
        "batch_size = 64\n",
        "\n",
        "# //-> Represents The Floor Division\n",
        "\n",
        "history = model.fit(\n",
        "    train_generator,\n",
        "    steps_per_epoch = nb_train_samples // batch_size,\n",
        "    epochs = epochs,\n",
        "    callbacks = checkpoint,\n",
        "    validation_data = validation_generator,\n",
        "    validation_steps = nb_validation_samples // batch_size\n",
        ")"
      ],
      "metadata": {
        "colab": {
          "base_uri": "https://localhost:8080/"
        },
        "id": "A_n5X4Tq95rP",
        "outputId": "3871da22-8969-40fa-a824-dacc09278cae"
      },
      "execution_count": null,
      "outputs": [
        {
          "output_type": "stream",
          "name": "stdout",
          "text": [
            "Epoch 1/10\n",
            "81/81 [==============================] - ETA: 0s - loss: 0.2688 - accuracy: 0.9106 \n",
            "Epoch 00001: val_loss improved from inf to 0.08796, saving model to /content/drive/MyDrive/1918026_hirdayanshsah_miniproject_5sem2021/Detect_vgg.h5\n",
            "81/81 [==============================] - 3314s 41s/step - loss: 0.2688 - accuracy: 0.9106 - val_loss: 0.0880 - val_accuracy: 0.9662\n",
            "Epoch 2/10\n",
            "81/81 [==============================] - ETA: 0s - loss: 0.1580 - accuracy: 0.9452\n",
            "Epoch 00002: val_loss did not improve from 0.08796\n",
            "81/81 [==============================] - 27s 338ms/step - loss: 0.1580 - accuracy: 0.9452 - val_loss: 0.1598 - val_accuracy: 0.9506\n",
            "Epoch 3/10\n",
            "81/81 [==============================] - ETA: 0s - loss: 0.1340 - accuracy: 0.9541\n",
            "Epoch 00003: val_loss did not improve from 0.08796\n",
            "81/81 [==============================] - 28s 346ms/step - loss: 0.1340 - accuracy: 0.9541 - val_loss: 0.2807 - val_accuracy: 0.9299\n",
            "Epoch 4/10\n",
            "81/81 [==============================] - ETA: 0s - loss: 0.1268 - accuracy: 0.9541\n",
            "Epoch 00004: val_loss did not improve from 0.08796\n",
            "81/81 [==============================] - 28s 346ms/step - loss: 0.1268 - accuracy: 0.9541 - val_loss: 0.1760 - val_accuracy: 0.9331\n",
            "Epoch 5/10\n",
            "81/81 [==============================] - ETA: 0s - loss: 0.1187 - accuracy: 0.9636\n",
            "Epoch 00005: val_loss did not improve from 0.08796\n",
            "81/81 [==============================] - 27s 336ms/step - loss: 0.1187 - accuracy: 0.9636 - val_loss: 0.3429 - val_accuracy: 0.9230\n",
            "Epoch 6/10\n",
            "81/81 [==============================] - ETA: 0s - loss: 0.1191 - accuracy: 0.9594\n",
            "Epoch 00006: val_loss did not improve from 0.08796\n",
            "81/81 [==============================] - 27s 336ms/step - loss: 0.1191 - accuracy: 0.9594 - val_loss: 0.0943 - val_accuracy: 0.9669\n",
            "Epoch 7/10\n",
            "81/81 [==============================] - ETA: 0s - loss: 0.1079 - accuracy: 0.9625\n",
            "Epoch 00007: val_loss did not improve from 0.08796\n",
            "81/81 [==============================] - 27s 339ms/step - loss: 0.1079 - accuracy: 0.9625 - val_loss: 0.2264 - val_accuracy: 0.9121\n",
            "Epoch 8/10\n",
            "81/81 [==============================] - ETA: 0s - loss: 0.1009 - accuracy: 0.9661\n",
            "Epoch 00008: val_loss did not improve from 0.08796\n",
            "81/81 [==============================] - 28s 344ms/step - loss: 0.1009 - accuracy: 0.9661 - val_loss: 0.1029 - val_accuracy: 0.9604\n",
            "Epoch 9/10\n",
            "81/81 [==============================] - ETA: 0s - loss: 0.0991 - accuracy: 0.9679\n",
            "Epoch 00009: val_loss did not improve from 0.08796\n",
            "81/81 [==============================] - 28s 342ms/step - loss: 0.0991 - accuracy: 0.9679 - val_loss: 0.1010 - val_accuracy: 0.9658\n",
            "Epoch 10/10\n",
            "81/81 [==============================] - ETA: 0s - loss: 0.1100 - accuracy: 0.9644\n",
            "Epoch 00010: val_loss did not improve from 0.08796\n",
            "81/81 [==============================] - 28s 349ms/step - loss: 0.1100 - accuracy: 0.9644 - val_loss: 0.0884 - val_accuracy: 0.9626\n"
          ]
        }
      ]
    },
    {
      "cell_type": "code",
      "source": [],
      "metadata": {
        "id": "2ynbRk6_-Jao"
      },
      "execution_count": null,
      "outputs": []
    }
  ]
}